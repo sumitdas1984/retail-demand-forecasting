{
 "cells": [
  {
   "cell_type": "code",
   "execution_count": null,
   "id": "177e9c2b",
   "metadata": {},
   "outputs": [],
   "source": [
    "# 📦 Imports\n",
    "import pandas as pd\n",
    "import numpy as np\n",
    "import os"
   ]
  },
  {
   "cell_type": "code",
   "execution_count": 2,
   "id": "ed099ba1",
   "metadata": {},
   "outputs": [],
   "source": [
    "# 📂 Load dataset\n",
    "data_path = \"../data/processed/retail_sales_extended.csv\"\n",
    "df = pd.read_csv(data_path, parse_dates=[\"date\"])"
   ]
  },
  {
   "cell_type": "code",
   "execution_count": null,
   "id": "2a04d8ba",
   "metadata": {},
   "outputs": [],
   "source": [
    "# 🧹 Clean up\n",
    "df.drop(columns=[\"Unnamed: 0\"], inplace=True)"
   ]
  },
  {
   "cell_type": "code",
   "execution_count": 4,
   "id": "42d1760b",
   "metadata": {},
   "outputs": [],
   "source": [
    "# 🔁 Sort by item and date for lag feature consistency\n",
    "df.sort_values(by=[\"item\", \"date\"], inplace=True)"
   ]
  },
  {
   "cell_type": "code",
   "execution_count": null,
   "id": "7d447799",
   "metadata": {},
   "outputs": [],
   "source": [
    "# # 🧠 Add more lag features\n",
    "# for lag in [1, 3, 7]:\n",
    "#     df[f\"sales_lag_{lag}\"] = df.groupby(\"item\")[\"units_sold\"].shift(lag)\n"
   ]
  },
  {
   "cell_type": "code",
   "execution_count": null,
   "id": "6ff88a2d",
   "metadata": {},
   "outputs": [],
   "source": [
    "# # 📈 Rolling average & trend (over 30 days)\n",
    "# df[\"sales_30d_avg\"] = df.groupby(\"item\")[\"units_sold\"].transform(lambda x: x.rolling(30, min_periods=1).mean().shift(1))\n",
    "# df[\"sales_30d_trend\"] = df[\"sales_30d_avg\"] - df[\"sales_7d_avg\"]"
   ]
  },
  {
   "cell_type": "code",
   "execution_count": 5,
   "id": "13e31f05",
   "metadata": {},
   "outputs": [],
   "source": [
    "# 🗓️ Encode time-based features\n",
    "df[\"day_of_week\"] = df[\"date\"].dt.dayofweek  # 0=Monday, 6=Sunday\n",
    "df[\"month\"] = df[\"date\"].dt.month"
   ]
  },
  {
   "cell_type": "code",
   "execution_count": 6,
   "id": "ffbff0b8",
   "metadata": {},
   "outputs": [],
   "source": [
    "# 🔤 Encode categorical features (Label Encoding or One-Hot Encoding as needed)\n",
    "df[\"item\"] = df[\"item\"].astype(\"category\").cat.codes\n",
    "df[\"category\"] = df[\"category\"].astype(\"category\").cat.codes\n",
    "df[\"brand\"] = df[\"brand\"].astype(\"category\").cat.codes"
   ]
  },
  {
   "cell_type": "code",
   "execution_count": 7,
   "id": "fb018593",
   "metadata": {},
   "outputs": [],
   "source": [
    "# 🧽 Handle missing values from lag features\n",
    "df.fillna(0, inplace=True)"
   ]
  },
  {
   "cell_type": "code",
   "execution_count": 8,
   "id": "fd60cc63",
   "metadata": {},
   "outputs": [
    {
     "name": "stdout",
     "output_type": "stream",
     "text": [
      "✅ Feature engineering complete. Saved to ../data/processed/retail_sales_features.csv\n"
     ]
    }
   ],
   "source": [
    "# 💾 Save engineered features\n",
    "output_path = \"../data/processed/retail_sales_features.csv\"\n",
    "df.to_csv(output_path, index=False)\n",
    "\n",
    "print(f\"✅ Feature engineering complete. Saved to {output_path}\")"
   ]
  },
  {
   "cell_type": "code",
   "execution_count": null,
   "id": "63cc9f7b",
   "metadata": {},
   "outputs": [],
   "source": []
  }
 ],
 "metadata": {
  "kernelspec": {
   "display_name": ".venv",
   "language": "python",
   "name": "python3"
  },
  "language_info": {
   "codemirror_mode": {
    "name": "ipython",
    "version": 3
   },
   "file_extension": ".py",
   "mimetype": "text/x-python",
   "name": "python",
   "nbconvert_exporter": "python",
   "pygments_lexer": "ipython3",
   "version": "3.12.3"
  }
 },
 "nbformat": 4,
 "nbformat_minor": 5
}
